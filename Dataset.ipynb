{
 "cells": [
  {
   "cell_type": "markdown",
   "metadata": {},
   "source": [
    "# DataSet"
   ]
  },
  {
   "cell_type": "markdown",
   "metadata": {},
   "source": [
    "We use web scraper to collect the images from the website and save them as our dataset"
   ]
  },
  {
   "cell_type": "code",
   "execution_count": 35,
   "metadata": {
    "collapsed": true
   },
   "outputs": [],
   "source": [
    "import requests\n",
    "from bs4 import BeautifulSoup\n",
    "import os"
   ]
  },
  {
   "cell_type": "code",
   "execution_count": 36,
   "metadata": {
    "collapsed": true
   },
   "outputs": [],
   "source": [
    "url='https://www.pexels.com/search/cat%20and%20dog/'\n",
    "def getHtmlurl(url):         #获取网址\n",
    "    try:\n",
    "       r=requests.get(url)\n",
    "       r.raise_for_status()\n",
    "       r.encoding=r.apparent_encoding\n",
    "       return r.text\n",
    "    except:\n",
    "        return \"\""
   ]
  },
  {
   "cell_type": "code",
   "execution_count": 39,
   "metadata": {
    "collapsed": true
   },
   "outputs": [],
   "source": [
    "def getpic(html): \n",
    "    soup =BeautifulSoup(html,'html.parser')\n",
    "    all_img=soup.find('div',class_=('photos')).find_all('img')\n",
    "    for img in all_img:\n",
    "       src=img['srcset']\n",
    "       img_url=src\n",
    "       print (img_url)\n",
    "       root='/Users/ivygan/Downloads/7390/pic/'\n",
    "       path = root + img_url.split('/')[-1]\n",
    "       try:                             \n",
    "           if not os.path.exists(root):\n",
    "               os.mkdir(root)\n",
    "           if not os.path.exists(path):\n",
    "               r = requests.get(img_url)\n",
    "               with open(path, 'wb') as f:\n",
    "                   f.write(r.content)\n",
    "                   f.close()\n",
    "                   print(\"save successful\")\n",
    "           else:\n",
    "               print(\"document has existed\")\n",
    "       except:\n",
    "           print(\"fail\")\n"
   ]
  },
  {
   "cell_type": "code",
   "execution_count": 40,
   "metadata": {},
   "outputs": [
    {
     "name": "stdout",
     "output_type": "stream",
     "text": [
      "https://images.pexels.com/photos/46024/pexels-photo-46024.jpeg?auto=compress&cs=tinysrgb&h=350 1x, https://images.pexels.com/photos/46024/pexels-photo-46024.jpeg?auto=compress&cs=tinysrgb&dpr=2&h=350 2x\n",
      "文件已存在\n",
      "https://images.pexels.com/photos/406014/pexels-photo-406014.jpeg?auto=compress&cs=tinysrgb&h=350 1x, https://images.pexels.com/photos/406014/pexels-photo-406014.jpeg?auto=compress&cs=tinysrgb&dpr=2&h=350 2x\n",
      "文件已存在\n",
      "https://images.pexels.com/photos/104827/cat-pet-animal-domestic-104827.jpeg?auto=compress&cs=tinysrgb&h=350 1x, https://images.pexels.com/photos/104827/cat-pet-animal-domestic-104827.jpeg?auto=compress&cs=tinysrgb&dpr=2&h=350 2x\n",
      "文件已存在\n",
      "https://images.pexels.com/photos/551628/pexels-photo-551628.jpeg?auto=compress&cs=tinysrgb&h=350 1x, https://images.pexels.com/photos/551628/pexels-photo-551628.jpeg?auto=compress&cs=tinysrgb&dpr=2&h=350 2x\n",
      "文件已存在\n",
      "https://images.pexels.com/photos/8700/wall-animal-dog-pet.jpg?auto=compress&cs=tinysrgb&h=350 1x, https://images.pexels.com/photos/8700/wall-animal-dog-pet.jpg?auto=compress&cs=tinysrgb&dpr=2&h=350 2x\n",
      "文件已存在\n",
      "https://images.pexels.com/photos/40064/theme-candid-portraits-smile-woman-girl-40064.jpeg?auto=compress&cs=tinysrgb&h=350 1x, https://images.pexels.com/photos/40064/theme-candid-portraits-smile-woman-girl-40064.jpeg?auto=compress&cs=tinysrgb&dpr=2&h=350 2x\n",
      "文件已存在\n",
      "https://images.pexels.com/photos/39317/chihuahua-dog-puppy-cute-39317.jpeg?auto=compress&cs=tinysrgb&h=350 1x, https://images.pexels.com/photos/39317/chihuahua-dog-puppy-cute-39317.jpeg?auto=compress&cs=tinysrgb&dpr=2&h=350 2x\n",
      "文件已存在\n",
      "https://images.pexels.com/photos/730896/pexels-photo-730896.jpeg?auto=compress&cs=tinysrgb&h=350 1x, https://images.pexels.com/photos/730896/pexels-photo-730896.jpeg?auto=compress&cs=tinysrgb&dpr=2&h=350 2x\n",
      "文件已存在\n",
      "https://images.pexels.com/photos/617278/pexels-photo-617278.jpeg?auto=compress&cs=tinysrgb&h=350 1x, https://images.pexels.com/photos/617278/pexels-photo-617278.jpeg?auto=compress&cs=tinysrgb&dpr=2&h=350 2x\n",
      "文件已存在\n",
      "https://images.pexels.com/photos/416160/pexels-photo-416160.jpeg?auto=compress&cs=tinysrgb&h=350 1x, https://images.pexels.com/photos/416160/pexels-photo-416160.jpeg?auto=compress&cs=tinysrgb&dpr=2&h=350 2x\n",
      "文件已存在\n",
      "https://images.pexels.com/photos/374825/pexels-photo-374825.jpeg?auto=compress&cs=tinysrgb&h=350 1x, https://images.pexels.com/photos/374825/pexels-photo-374825.jpeg?auto=compress&cs=tinysrgb&dpr=2&h=350 2x\n",
      "文件已存在\n",
      "https://images.pexels.com/photos/134392/pexels-photo-134392.jpeg?auto=compress&cs=tinysrgb&h=350 1x, https://images.pexels.com/photos/134392/pexels-photo-134392.jpeg?auto=compress&cs=tinysrgb&dpr=2&h=350 2x\n",
      "文件已存在\n",
      "https://images.pexels.com/photos/45170/kittens-cat-cat-puppy-rush-45170.jpeg?auto=compress&cs=tinysrgb&h=350 1x, https://images.pexels.com/photos/45170/kittens-cat-cat-puppy-rush-45170.jpeg?auto=compress&cs=tinysrgb&dpr=2&h=350 2x\n",
      "文件已存在\n",
      "https://images.pexels.com/photos/59523/pexels-photo-59523.jpeg?auto=compress&cs=tinysrgb&h=350 1x, https://images.pexels.com/photos/59523/pexels-photo-59523.jpeg?auto=compress&cs=tinysrgb&dpr=2&h=350 2x\n",
      "文件已存在\n",
      "https://images.pexels.com/photos/374906/pexels-photo-374906.jpeg?auto=compress&cs=tinysrgb&h=350 1x, https://images.pexels.com/photos/374906/pexels-photo-374906.jpeg?auto=compress&cs=tinysrgb&dpr=2&h=350 2x\n",
      "文件已存在\n",
      "None\n"
     ]
    }
   ],
   "source": [
    "\n",
    "def main():\n",
    "    url='https://www.pexels.com/search/cat%20and%20dog/'\n",
    "    html=(getHtmlurl(url))\n",
    "\n",
    "    print(getpic(html))\n",
    "main()"
   ]
  },
  {
   "cell_type": "code",
   "execution_count": null,
   "metadata": {
    "collapsed": true
   },
   "outputs": [],
   "source": []
  }
 ],
 "metadata": {
  "kernelspec": {
   "display_name": "Python 3",
   "language": "python",
   "name": "python3"
  },
  "language_info": {
   "codemirror_mode": {
    "name": "ipython",
    "version": 3
   },
   "file_extension": ".py",
   "mimetype": "text/x-python",
   "name": "python",
   "nbconvert_exporter": "python",
   "pygments_lexer": "ipython3",
   "version": "3.6.4"
  }
 },
 "nbformat": 4,
 "nbformat_minor": 2
}
